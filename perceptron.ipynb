{
  "nbformat": 4,
  "nbformat_minor": 0,
  "metadata": {
    "colab": {
      "provenance": [],
      "collapsed_sections": [
        "pSyrs_vvr22N",
        "WL9HyYBIgUVf"
      ]
    },
    "kernelspec": {
      "name": "python3",
      "display_name": "Python 3"
    },
    "accelerator": "GPU",
    "gpuClass": "standard"
  },
  "cells": [
    {
      "cell_type": "markdown",
      "metadata": {
        "id": "mj5Gc4rTncj6"
      },
      "source": [
        "<h1><center><b>Machine Learning</></center></h1>\n",
        "<h4><center>89-511</center></h4>\n",
        "<h3><center>Exercise 3</center></h3>\n",
        "<h4><center>Submission date: 6/12/2022</center></h4>"
      ]
    },
    {
      "cell_type": "markdown",
      "metadata": {
        "id": "oATLsvZp6K5q"
      },
      "source": [
        "Your Name:  \n",
        "<font color='red'>\n",
        "Netanel Landesman   \n",
        "</font>\n"
      ]
    },
    {
      "cell_type": "markdown",
      "metadata": {
        "id": "Srs9mnmgrSIW"
      },
      "source": [
        "____________"
      ]
    },
    {
      "cell_type": "markdown",
      "metadata": {
        "id": "RakOdZ9Mm5Q8"
      },
      "source": [
        "In this exercise we will learn to:\n",
        "1. Load, prepare and visualize datasets.\n",
        "2. Implement Perceptron and train it.\n",
        "3. Implement regularization."
      ]
    },
    {
      "cell_type": "markdown",
      "metadata": {
        "id": "4Lmcx4cf7x9o"
      },
      "source": [
        "**Instructions:**\n",
        "- Create a copy of this notebook and implement your code in it.\n",
        "- Download the dataset from [here](https://drive.google.com/file/d/1B3KrnISPjPrLzYZySUaY9q-imDBPqLWO/view?usp=sharing). (dataset.csv)\n",
        "- Make sure you don't leave empty cells or empty answers.\n",
        "- When you finish the assignment, download the notebook and submit it to the [**\"submit\"**](https://submit.cs.biu.ac.il/cgi-bin/welcome.cgi) system. \n",
        "To Download the notebook go to **\"File\"** -> **\"Download .ipynb\"**.  \n",
        "- **Submit the notebook named 'perceptron.ipynb'**"
      ]
    },
    {
      "cell_type": "markdown",
      "metadata": {
        "id": "j74_axPhxSUf"
      },
      "source": [
        "### **1. Introduction to Colab and Numpy**"
      ]
    },
    {
      "cell_type": "markdown",
      "metadata": {
        "id": "aVvttB5zp7JR"
      },
      "source": [
        "We use the Python programming language for all assignments in this course with the help of popular packages (like numpy, matplotlib, sklearn, scipy and pytorch)."
      ]
    },
    {
      "cell_type": "markdown",
      "metadata": {
        "id": "WfngYcGBxVe_"
      },
      "source": [
        "Go over this **[numpy tutorial](https://cs231n.github.io/python-numpy-tutorial/)** before starting this assignment and **[this notebook](https://colab.research.google.com/github/cs231n/cs231n.github.io/blob/master/python-colab.ipynb)** to understand how to work with basic packages and with Google Colab. It is important to go over them before starting this assignment."
      ]
    },
    {
      "cell_type": "markdown",
      "metadata": {
        "id": "I_MQ33uls2lu"
      },
      "source": [
        "### **2. Setup**\n",
        "Before running code on Colab:\n",
        "- Check your Python version at the command line by running \"!python --version\". It should be Python 3.6 by default.\n",
        "- Upload all files of this assignment (code and datasets) to your Drive (e.g \"machine_learning_intro/assignments/assignment1\") and mount that data to the machine. See the next cells below.  \n",
        "In principle, it is also possible to upload files to the local disk of the colab machines, but such files will be deleted when the machine is restarted (not an often event)."
      ]
    },
    {
      "cell_type": "code",
      "metadata": {
        "id": "GIYZ8411uSg_",
        "colab": {
          "base_uri": "https://localhost:8080/"
        },
        "outputId": "9b8c5a19-81cd-4b5f-818d-f9140b15d805"
      },
      "source": [
        "# check python version\n",
        "!python --version"
      ],
      "execution_count": 24,
      "outputs": [
        {
          "output_type": "stream",
          "name": "stdout",
          "text": [
            "Python 3.8.15\n"
          ]
        }
      ]
    },
    {
      "cell_type": "code",
      "metadata": {
        "id": "TS82AoVQwt7z",
        "colab": {
          "base_uri": "https://localhost:8080/"
        },
        "outputId": "474d028e-2121-4682-a8eb-061841e36911"
      },
      "source": [
        "from google.colab import drive\n",
        "\n",
        "drive.mount('/content/drive/', force_remount=True)\n",
        "\n",
        "# Enter the foldername in your Drive where you have saved the code and datasets.\n",
        "# Recommended path: 'machine_learning_intro/assignments/assignment1/'\n",
        "FOLDERNAME = 'machine_learning_intro/assignments/'\n",
        "ASSIGNMENTNAME = 'assignment3'\n",
        "\n",
        "%cd drive/My\\ Drive\n",
        "%cp -r $FOLDERNAME/$ASSIGNMENTNAME ../../\n",
        "%cd ../../"
      ],
      "execution_count": 25,
      "outputs": [
        {
          "output_type": "stream",
          "name": "stdout",
          "text": [
            "Mounted at /content/drive/\n",
            "/content/drive/My Drive\n",
            "/content\n"
          ]
        }
      ]
    },
    {
      "cell_type": "markdown",
      "metadata": {
        "id": "MIdCxGP3nszs"
      },
      "source": [
        "### **3. Dataset & Preprocessing**"
      ]
    },
    {
      "cell_type": "markdown",
      "metadata": {
        "id": "U5z2WEwqrtV5"
      },
      "source": [
        "In this section, we are going to load a 2-dimensional  data and preprocess it using the \"numpy\" package.  "
      ]
    },
    {
      "cell_type": "code",
      "metadata": {
        "id": "IRIDf5EnmWq3"
      },
      "source": [
        "# Load numpy package\n",
        "import numpy as np"
      ],
      "execution_count": 26,
      "outputs": []
    },
    {
      "cell_type": "markdown",
      "metadata": {
        "id": "Sn_mf98fsj5p"
      },
      "source": [
        "Load the pre-generated data provided to you. Using numpy, load the file \"dataset.csv\" and print its shape. You should see that the data is a numpy array (a matrix) with 500 rows (called **data samples**) and 3 columns. The first two columns are the **features** of the samples and the last column is the **label** of each sample."
      ]
    },
    {
      "cell_type": "code",
      "metadata": {
        "id": "GHS0SG4ZvObo",
        "colab": {
          "base_uri": "https://localhost:8080/"
        },
        "outputId": "6c3baff7-3d28-4d4d-c8a4-d7be7607441c"
      },
      "source": [
        "# load data using \"np.genfromtxt\"\n",
        "data = np.genfromtxt(f\"{ASSIGNMENTNAME}/dataset.csv\", delimiter=',',dtype=np.float64)\n",
        "# print 5 rows from the data\n",
        "print(data[:5])\n",
        "# print its shape\n",
        "print(\"Data shape:\", data.shape)"
      ],
      "execution_count": 27,
      "outputs": [
        {
          "output_type": "stream",
          "name": "stdout",
          "text": [
            "[[ 1.75111789 -1.25722467 -1.        ]\n",
            " [ 2.47513131  1.7817015   1.        ]\n",
            " [ 0.89051961 -1.60740181 -1.        ]\n",
            " [ 1.71910455 -1.91091876 -1.        ]\n",
            " [ 0.99335187  1.00259882  1.        ]]\n",
            "Data shape: (500, 3)\n"
          ]
        }
      ]
    },
    {
      "cell_type": "markdown",
      "metadata": {
        "id": "3tk26PWsxmHR"
      },
      "source": [
        "Split the data into features and labels and print their shape. Be careful not to change the content of the data."
      ]
    },
    {
      "cell_type": "code",
      "metadata": {
        "id": "PxcZJkImxdPF",
        "colab": {
          "base_uri": "https://localhost:8080/"
        },
        "outputId": "b737aad2-ff89-4e12-caf5-2ed654f37709"
      },
      "source": [
        "# split the data to features and labels\n",
        "features = data[:,0:2]\n",
        "labels = data[:,2]\n",
        "# print their shape\n",
        "print(\"Features Shape:\", features.shape)\n",
        "print(\"Labels Shape:\", labels.shape)"
      ],
      "execution_count": 28,
      "outputs": [
        {
          "output_type": "stream",
          "name": "stdout",
          "text": [
            "Features Shape: (500, 2)\n",
            "Labels Shape: (500,)\n"
          ]
        }
      ]
    },
    {
      "cell_type": "markdown",
      "metadata": {
        "id": "LFvNfVjjv1UJ"
      },
      "source": [
        "Count how many samples are from class **-1**, and how many to class **+1**. Use the variable ```labels```  from the previous cell."
      ]
    },
    {
      "cell_type": "code",
      "metadata": {
        "id": "vbwC_fKgv0rv",
        "colab": {
          "base_uri": "https://localhost:8080/"
        },
        "outputId": "69fe0bab-b945-4cd5-978d-c705464e58d1"
      },
      "source": [
        "class_pos_idx = np.where(labels == 1)[0]\n",
        "class_neg_idx = np.where(labels == -1)[0]\n",
        "print(\"Num samples for class -1:\",len(class_neg_idx))\n",
        "print(\"Num samples for class +1:\",len(class_pos_idx))"
      ],
      "execution_count": 29,
      "outputs": [
        {
          "output_type": "stream",
          "name": "stdout",
          "text": [
            "Num samples for class -1: 254\n",
            "Num samples for class +1: 246\n"
          ]
        }
      ]
    },
    {
      "cell_type": "markdown",
      "metadata": {
        "id": "oZdpjSnbfAZw"
      },
      "source": [
        "We can now split the data into train and test. The train would be 80% of the total #samples. The rest will go for test-set. We can use ```train_test_split``` function from sklearn."
      ]
    },
    {
      "cell_type": "code",
      "metadata": {
        "id": "xZxBVSSJf-7A"
      },
      "source": [
        "from sklearn.model_selection import train_test_split\n",
        "X_train, X_test, y_train, y_test = train_test_split(features, labels, test_size=0.2, random_state=36)"
      ],
      "execution_count": 30,
      "outputs": []
    },
    {
      "cell_type": "markdown",
      "metadata": {
        "id": "pSyrs_vvr22N"
      },
      "source": [
        "### **4. Visualizations**"
      ]
    },
    {
      "cell_type": "markdown",
      "metadata": {
        "id": "ngvSNhMzylNw"
      },
      "source": [
        "It is always recommended to plot the data (when possible) and see the decision boundaries of our trained models. Since our data is a 2d vector (two features), we can plot each sample as a point in a 2d space.  \n",
        "Use ```matplotlib``` and plot a **[scatter](https://matplotlib.org/stable/api/_as_gen/matplotlib.pyplot.scatter.html)** plot contains all the points. Make sure that samples of class -1 will be colored \"blue\" while samples of class +1 will be colored \"red\". (Read more about matplotlib [here](https://matplotlib.org/))"
      ]
    },
    {
      "cell_type": "code",
      "metadata": {
        "id": "N0BG2Fa1ZKHn"
      },
      "source": [
        "import matplotlib.pyplot as plt"
      ],
      "execution_count": 31,
      "outputs": []
    },
    {
      "cell_type": "code",
      "source": [
        "class_pos_idx = np.where(labels == 1)[0]\n",
        "features[class_neg_idx, -2].shape"
      ],
      "metadata": {
        "id": "Z6NMV4KfZ17m",
        "colab": {
          "base_uri": "https://localhost:8080/"
        },
        "outputId": "d5395e4e-393a-4b75-eb73-23657f2d8fc3"
      },
      "execution_count": 32,
      "outputs": [
        {
          "output_type": "execute_result",
          "data": {
            "text/plain": [
              "(254,)"
            ]
          },
          "metadata": {},
          "execution_count": 32
        }
      ]
    },
    {
      "cell_type": "code",
      "metadata": {
        "id": "R5bxaq4VyFgI",
        "colab": {
          "base_uri": "https://localhost:8080/",
          "height": 0
        },
        "outputId": "5e288b6d-6b60-4b3b-c9f2-9479f2ebf27f"
      },
      "source": [
        "from matplotlib import colors\n",
        "from string import octdigits\n",
        "def plot_data(features, labels):\n",
        "  '''\n",
        "  The function plots the data on a 2d plane. It colors class -1 with the \"blue\" color \n",
        "  and class +1 with the \"red\" color.\n",
        "  '''\n",
        "  x_red_point=[]\n",
        "  y_red_point=[]\n",
        "  x_blue_point=[]\n",
        "  y_blue_point=[]\n",
        "  for i in range(len(labels)):\n",
        "    if labels[i] == 1:\n",
        "      x_red_point.append(features[i][0])\n",
        "      y_red_point.append(features[i][1])\n",
        "    else:\n",
        "      x_blue_point.append(features[i][0])\n",
        "      y_blue_point.append(features[i][1])\n",
        "  plt.scatter(x_red_point,y_red_point,color='red')\n",
        "  plt.scatter(x_blue_point,y_blue_point,color='blue')\n",
        "  #plt.show()\n",
        "\n",
        "plot_data(features, labels)"
      ],
      "execution_count": 33,
      "outputs": [
        {
          "output_type": "display_data",
          "data": {
            "text/plain": [
              "<Figure size 720x360 with 1 Axes>"
            ],
            "image/png": "[encoded data removed]"
          },
          "metadata": {
            "needs_background": "light"
          }
        }
      ]
    },
    {
      "cell_type": "markdown",
      "metadata": {
        "id": "WL9HyYBIgUVf"
      },
      "source": [
        "### **5. Perceptron**"
      ]
    },
    {
      "cell_type": "markdown",
      "metadata": {
        "id": "I0R2surDghVg"
      },
      "source": [
        "In this section, we  implement a Perceptron model using numpy. The perceptron aims to classify each sample to a class -1 or class +1 (binary classification task)."
      ]
    },
    {
      "cell_type": "markdown",
      "metadata": {
        "id": "5uDFLvCphNwa"
      },
      "source": [
        "**Reminder:** The perceptron model takes an input vector $\\mathbf{x}$. If the weighted sum of the inputs, $\\mathbf{w}^T\\mathbf{x}$ is greater than a threshold $b$ it outputs +1. Otherwise, it outputs a -1:\n",
        "$$\n",
        "    f(x)= \n",
        "\\begin{cases}\n",
        "    +1,& \\text{if } \\mathbf{w}^{T}\\mathbf{x}\\geq b\\\\\n",
        "    -1,              & \\text{otherwise}\n",
        "\\end{cases}$$\n",
        "\n",
        "Remember that: $ \\mathbf{w}^{T}\\mathbf{x} = \\sum_{i=1}^{n}{w_ix_i}$.\n"
      ]
    },
    {
      "cell_type": "markdown",
      "metadata": {
        "id": "hgVJIDbGkirh"
      },
      "source": [
        "![image.png](data:image/png;base64,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)"
      ]
    },
    {
      "cell_type": "markdown",
      "metadata": {
        "id": "84uxCxo0lAqg"
      },
      "source": [
        "The main goal of the learning algorithm is to find  a vector  $\\mathbf{w}$ capable of separating positive samples (y = +1) from negative (y = -1) samples.\n",
        "\n",
        "To do that, we should learn two things: weights $\\mathbf{w}$ and a bias term $b$. \n",
        "\n",
        "Instead of updating the bias separately, we can extend the input vector by appending a value of 1. The corresponding weight takes the role of the bias term. For this reason, we only update here the weight vector $\\mathbf{w}$\n",
        "\n",
        "**Learning $\\mathbf{w}$:** (You have to write this code)\n",
        "\n",
        "Start by initializing $\\mathbf{w}$ randomly.  \n",
        "$$\n",
        " \\mathbf{w}^0 = \\mathrm{a \\, vector \\,\\,of \\,\\,small \\,\\,random \\,\\,values}\n",
        "$$\n",
        "When the model makes a mistake on a sample $\\mathbf{x}_i$, then fix $\\mathbf{w}$ using the update rule:\n",
        "\n",
        "$$\\mathbf{w}^{(t+1)} = \\begin{cases}\n",
        "    \\mathbf{w}^{(t)},& \\text{if   } y_i (\\mathbf{w}^{(t)})^T\\mathbf{x}_i > 0\\\\\n",
        "    \\mathbf{w}^{(t)} + \\eta y_i \\mathbf{x}_i,              & \\text{otherwise}\n",
        "\\end{cases}$$\n",
        "\n",
        "where $\\eta$ is the learning rate. $\\eta$ controls how much the weights change at each update.  "
      ]
    },
    {
      "cell_type": "markdown",
      "metadata": {
        "id": "BZ6DlvL3dsQQ"
      },
      "source": [
        "**Handle the bias term:**\n",
        "We add a column of ones to the train and test features so we won't need to learn the bias. The train and test shapes will be (#samples,3). There are plenty of ways to do it. One way is using ```np.hstack``` function. "
      ]
    },
    {
      "cell_type": "code",
      "metadata": {
        "id": "XenUNHIMeSxN",
        "colab": {
          "base_uri": "https://localhost:8080/"
        },
        "outputId": "3f2eb49c-e9fd-4ca6-a0b9-da5c5d9e2226"
      },
      "source": [
        "def add_ones_column(X):\n",
        "  # add a column of ones to the data\n",
        "  ones_col = np.ones((X.shape[0],1))\n",
        "  return np.hstack((ones_col,X))\n",
        "\n",
        "X_train = add_ones_column(X_train)\n",
        "X_test = add_ones_column(X_test)\n",
        "\n",
        "print(X_train[:10])\n",
        "print(X_test[:10])\n"
      ],
      "execution_count": 34,
      "outputs": [
        {
          "output_type": "stream",
          "name": "stdout",
          "text": [
            "[[ 1.          0.5728595  -0.64115844]\n",
            " [ 1.          0.75050857  0.85783104]\n",
            " [ 1.          0.85256201  0.93281869]\n",
            " [ 1.          1.7751885  -1.52202396]\n",
            " [ 1.         -0.44934736  0.19512262]\n",
            " [ 1.          0.07039966  0.4989928 ]\n",
            " [ 1.          1.28887364  1.15332705]\n",
            " [ 1.          0.51740805 -0.69872273]\n",
            " [ 1.          0.99547857  0.99368481]\n",
            " [ 1.          0.9653886  -0.73786082]]\n",
            "[[ 1.          1.24912008  1.13648566]\n",
            " [ 1.          1.80686694  1.43863978]\n",
            " [ 1.          0.55139985  0.75591364]\n",
            " [ 1.          1.22901168 -0.99306148]\n",
            " [ 1.          0.66086365  0.8145488 ]\n",
            " [ 1.          1.56308891  1.31399306]\n",
            " [ 1.          0.75415373 -0.50299365]\n",
            " [ 1.          1.500951    1.26450655]\n",
            " [ 1.          0.80955138  0.90943571]\n",
            " [ 1.          1.20445958  1.09675533]]\n"
          ]
        }
      ]
    },
    {
      "cell_type": "markdown",
      "metadata": {
        "id": "J9KPQCIqkZVY"
      },
      "source": [
        "Implement all methods of the Perceptron class below."
      ]
    },
    {
      "cell_type": "code",
      "metadata": {
        "id": "8T859gqngXzo"
      },
      "source": [
        "class Perceptron(object):\n",
        "    def __init__(self, n_features, iterations=10, learning_rate=0.01):\n",
        "        '''\n",
        "        The function initialized the Perceptron model.\n",
        "        n_features - number of features of each sample (excluding the bias)\n",
        "        iterations - number of iterations on the training data\n",
        "        learning_rate - learning rate, how much the weight will change during update\n",
        "        '''\n",
        "        self.iterations = iterations\n",
        "        self.learning_rate = learning_rate\n",
        "        np.random.seed(30) # set random seed, should not be altered!\n",
        "        self.weights = np.random.randn(n_features + 1)\n",
        "\n",
        "    def predict(self, input):\n",
        "        '''\n",
        "        The function makes a prediction for the given input.\n",
        "        Output: -1 or 1.\n",
        "        '''\n",
        "        u = np.sum(np.transpose(self.weights) * input)\n",
        "        if u > 0:\n",
        "          return 1\n",
        "        return -1\n",
        "        \n",
        "\n",
        "    def evaluate(self, inputs, labels):\n",
        "        '''\n",
        "        The function makes a predictions for the given inputs and compares \n",
        "        against the labels (ground truth). It returns the accuracy.\n",
        "        Accuracy = #correct_classification / #total\n",
        "        '''\n",
        "        true_classified = 0\n",
        "        for input, label in zip(inputs, labels):\n",
        "          prediction = self.predict(input)\n",
        "          if prediction * label > 0:\n",
        "            true_classified += 1\n",
        "        return true_classified / len(inputs)\n",
        "\n",
        "\n",
        "    def train(self, training_inputs, train_labels, test_inputs, test_labels, verbose=True):\n",
        "        '''\n",
        "        The function train a perceptron model given training_inputs and train_labels.\n",
        "        It also evaluates the model on the train set and test set after every iteration.\n",
        "        '''\n",
        "        for i in range(self.iterations):\n",
        "            for x, y in zip(training_inputs, train_labels):\n",
        "                prediction = self.predict(x)\n",
        "                if prediction * y <= 0:\n",
        "                  self.weights += self.learning_rate*y*x\n",
        "            if verbose:\n",
        "              print(f\"Iteration No.{i},\\\n",
        "               Train accuracy: {self.evaluate(training_inputs, train_labels)},\\\n",
        "                Test accuracy: {self.evaluate(test_inputs, test_labels)}\")"
      ],
      "execution_count": 35,
      "outputs": []
    },
    {
      "cell_type": "markdown",
      "metadata": {
        "id": "8lXoTe1uphUs"
      },
      "source": [
        "Create a ```Perceptron``` instance and train it on the training data from before. For each iteration, print the train accuracy and test accuracy.  \n",
        "\n",
        "You can set the hyperparamets to:  \n",
        "iterations = 10  \n",
        "learning_rate = 0.01."
      ]
    },
    {
      "cell_type": "code",
      "metadata": {
        "id": "J9UzDmQnp8Bx",
        "colab": {
          "base_uri": "https://localhost:8080/"
        },
        "outputId": "701c6c66-aa5a-4490-c6cd-c787972620ca"
      },
      "source": [
        "# create a Perceptron model and train it.\n",
        "my_model = Perceptron(2)\n",
        "my_model.train(X_train, y_train, X_test, y_test)\n"
      ],
      "execution_count": 36,
      "outputs": [
        {
          "output_type": "stream",
          "name": "stdout",
          "text": [
            "Iteration No.0,               Train accuracy: 0.825,                Test accuracy: 0.82\n",
            "Iteration No.1,               Train accuracy: 0.905,                Test accuracy: 0.91\n",
            "Iteration No.2,               Train accuracy: 0.935,                Test accuracy: 0.97\n",
            "Iteration No.3,               Train accuracy: 0.95,                Test accuracy: 0.97\n",
            "Iteration No.4,               Train accuracy: 0.9525,                Test accuracy: 0.98\n",
            "Iteration No.5,               Train accuracy: 0.9625,                Test accuracy: 0.99\n",
            "Iteration No.6,               Train accuracy: 0.9625,                Test accuracy: 0.99\n",
            "Iteration No.7,               Train accuracy: 0.9625,                Test accuracy: 0.99\n",
            "Iteration No.8,               Train accuracy: 0.9625,                Test accuracy: 0.98\n",
            "Iteration No.9,               Train accuracy: 0.9575,                Test accuracy: 0.98\n"
          ]
        }
      ]
    },
    {
      "cell_type": "markdown",
      "metadata": {
        "id": "pdvuYi56ssS9"
      },
      "source": [
        "### **6. Decision Boundary**"
      ]
    },
    {
      "cell_type": "markdown",
      "metadata": {
        "id": "8XDc9ZSv6KUQ"
      },
      "source": [
        "Let's visualize the decision boundary of the trained Perceptron. Use the function below for your plot."
      ]
    },
    {
      "cell_type": "code",
      "metadata": {
        "id": "VMzY3fJ064cG"
      },
      "source": [
        "def plot_decision_boundary(features, linear_model):\n",
        "  '''\n",
        "  Plots the decision boundary for a given linear model\n",
        "  Inputs:\n",
        "  features - numpy array with the data features, its shape should be (100,2)\n",
        "  linear_model - trained model\n",
        "  '''\n",
        "  nb_col = []\n",
        "  for i in range(X_train.shape[-1]):\n",
        "    if not (X_train[:,i].min() == 1 and X_train[:,i].max()==1):\n",
        "      nb_col.append(i)\n",
        "      \n",
        "  x_min, x_max = features[:, nb_col[0]].min() - .5, features[:, nb_col[0]].max() + .5\n",
        "  y_min, y_max = features[:, nb_col[1]].min() - .5, features[:, nb_col[1]].max() + .5\n",
        "  h = .02\n",
        "  xx, yy = np.meshgrid(np.arange(x_min, x_max, h), np.arange(y_min, y_max, h))\n",
        "  inputs = add_ones_column(np.c_[xx.ravel(), yy.ravel()])\n",
        "  if \"sklearn\" in str(type(linear_model)):\n",
        "    Z = linear_model.predict(inputs)\n",
        "  else:\n",
        "    Z = []\n",
        "    for x in inputs:\n",
        "      Z += [linear_model.predict(x)]\n",
        "  Z = np.array(Z).reshape(xx.shape)\n",
        "  plt.contour(xx, yy, Z, colors='k',linestyles=['-'])"
      ],
      "execution_count": 37,
      "outputs": []
    },
    {
      "cell_type": "code",
      "metadata": {
        "id": "tk2uE1L2tKC5",
        "colab": {
          "base_uri": "https://localhost:8080/",
          "height": 353
        },
        "outputId": "c88a6318-db85-4e5c-ebee-683b3dbac834"
      },
      "source": [
        "\n",
        "X_train = np.delete(X_train, 0, axis=1)\n",
        "X_test = np.delete(X_test, 0, axis=1)\n",
        "\n",
        "# print(X_train[:5])\n",
        "plt.rcParams['figure.figsize'] = 10, 5\n",
        "plt.subplot(1,2,1)\n",
        "# plot the training samples here\n",
        "plot_data(X_train, y_train)\n",
        "# use \"plot_decision_boundary\" above to plot the decision boundary of the Perceptron model\n",
        "plot_decision_boundary(X_train, my_model)\n",
        "plt.title(\"Train\")\n",
        "\n",
        "plt.subplot(1,2,2)\n",
        "# plot the test samples here\n",
        "plot_data(X_test, y_test)\n",
        "# use \"plot_decision_boundary\" above to plot the decision boundary of the Perceptron model\n",
        "plot_decision_boundary(X_test, my_model)\n",
        "plt.title(\"Test\")"
      ],
      "execution_count": 38,
      "outputs": [
        {
          "output_type": "execute_result",
          "data": {
            "text/plain": [
              "Text(0.5, 1.0, 'Test')"
            ]
          },
          "metadata": {},
          "execution_count": 38
        },
        {
          "output_type": "display_data",
          "data": {
            "text/plain": [
              "<Figure size 720x360 with 2 Axes>"
            ],
            "image/png": "[encoded data removed]"
          },
          "metadata": {
            "needs_background": "light"
          }
        }
      ]
    },
    {
      "cell_type": "markdown",
      "metadata": {
        "id": "o7e8OfO6td4I"
      },
      "source": [
        "**Q**: Can the perceptron model ever reach accuracy = 100% on the **training data**? Explain how if you think it's possible or why if you think it's not."
      ]
    },
    {
      "cell_type": "markdown",
      "metadata": {
        "id": "f3fuAfUkxxi4"
      },
      "source": [
        "**A**: <font color='red'>\n",
        "מודל הפרספקטרון יכול להגיע ל100 אחוז דיוק בסט האימון רק אם הוא יקבל סט דוגמאות שהם פרידים לינארית ושלא יהיה \"רעש\" של כמה נקודות שכנראה עברו סיווג לא נכון ובעצם נמצאים בצד אחד של קו הגבול אך למעשה יש להם תווית של הצד השני. במקרה שלנו ניתן לראות שיש כמה דוגמאות כחולות מעורבבות בצד של האדום, דבר אשר לא מאפשר למודל להפריד בצורה מושלמת את סט הדוגמאות בצורה לינארית ולכן אצלינו לעולם לא נקבל 100 אחוז דיוק בסט האימון (אך שוב, אם היינו מקבלים דוגמאות פרידות לינארית ללא שום רעש כן היינו יכולים לקבל 100 אחוז דיוק) \n",
        "</font>\n"
      ]
    },
    {
      "cell_type": "markdown",
      "metadata": {
        "id": "EKh5d4w_3OPw"
      },
      "source": [
        "### **7. The effect of training-set size**"
      ]
    },
    {
      "cell_type": "markdown",
      "metadata": {
        "id": "AgH9OF256XpH"
      },
      "source": [
        "Let's investigate how the size of the training set affects the train and test accuracy.\n",
        "We start by training our perceptron model on only 2 train samples, then on 5, 25, 50, 150, 250 and 400 samples.   \n",
        "We evaluate all models on the test set."
      ]
    },
    {
      "cell_type": "code",
      "metadata": {
        "id": "julZXemt9_ZO",
        "colab": {
          "base_uri": "https://localhost:8080/"
        },
        "outputId": "b3e775cc-a914-445b-9b14-20800c83bb0a"
      },
      "source": [
        "train_samples = [2,5,25,50,150,250,400]\n",
        "\n",
        "train_acc_ls, test_acc_ls = [], []\n",
        "X_train = add_ones_column(X_train)\n",
        "X_test = add_ones_column(X_test)\n",
        "for train_size in train_samples:\n",
        "  # randomly select `train_size` samples\n",
        "  idx = np.random.choice(len(X_train), size=train_size, replace=False)\n",
        "  small_X_train, small_y_train = X_train[idx], y_train[idx]\n",
        "  # create and train a perceptron model\n",
        "  my_model = Perceptron(n_features=2, iterations=100, learning_rate=0.01)\n",
        "  my_model.train(small_X_train, small_y_train, X_test, y_test, verbose=False)\n",
        "  # evaluate the model on train and test\n",
        "  curr_train_acc = my_model.evaluate(small_X_train, small_y_train)\n",
        "  curr_test_acc = my_model.evaluate(X_test, y_test)\n",
        "  # keep track on it\n",
        "  train_acc_ls += [curr_train_acc]\n",
        "  test_acc_ls += [curr_test_acc]\n",
        "\n",
        "  print(f\"Train size: {train_size}, Train accuracy: {curr_train_acc}, Test accuracy: {curr_test_acc}\")"
      ],
      "execution_count": 39,
      "outputs": [
        {
          "output_type": "stream",
          "name": "stdout",
          "text": [
            "Train size: 2, Train accuracy: 1.0, Test accuracy: 0.51\n",
            "Train size: 5, Train accuracy: 1.0, Test accuracy: 0.8\n",
            "Train size: 25, Train accuracy: 1.0, Test accuracy: 0.97\n",
            "Train size: 50, Train accuracy: 1.0, Test accuracy: 0.97\n",
            "Train size: 150, Train accuracy: 0.9666666666666667, Test accuracy: 0.98\n",
            "Train size: 250, Train accuracy: 0.964, Test accuracy: 0.98\n",
            "Train size: 400, Train accuracy: 0.9675, Test accuracy: 0.98\n"
          ]
        }
      ]
    },
    {
      "cell_type": "code",
      "metadata": {
        "id": "eRZZ86dC_25L",
        "colab": {
          "base_uri": "https://localhost:8080/",
          "height": 351
        },
        "outputId": "57413641-2f77-4a30-b28b-700ae95bb8f9"
      },
      "source": [
        "# plot train and test accuracy as a function of train size\n",
        "train_samples = [\"2\",\"5\",\"25\",\"50\",\"150\",\"250\",\"400\"]\n",
        "plt.plot(train_samples, train_acc_ls)\n",
        "plt.plot(train_samples, test_acc_ls)\n",
        "plt.legend([\"train_acc\",\"test_acc\"])\n",
        "plt.xlabel(\"#Train samples\")\n",
        "plt.ylabel(\"Accuracy\")"
      ],
      "execution_count": 40,
      "outputs": [
        {
          "output_type": "execute_result",
          "data": {
            "text/plain": [
              "Text(0, 0.5, 'Accuracy')"
            ]
          },
          "metadata": {},
          "execution_count": 40
        },
        {
          "output_type": "display_data",
          "data": {
            "text/plain": [
              "<Figure size 720x360 with 1 Axes>"
            ],
            "image/png": "[encoded data removed]"
          },
          "metadata": {
            "needs_background": "light"
          }
        }
      ]
    },
    {
      "cell_type": "markdown",
      "metadata": {
        "id": "r0vqwlrAB-7n"
      },
      "source": [
        "**Q**: What can we learn from the plot above? What is the effect that occurs when we train a model on a very small train set? How does it affect the train and test accuracy?"
      ]
    },
    {
      "cell_type": "markdown",
      "metadata": {
        "id": "indUnxKkGOU2"
      },
      "source": [
        "\n",
        "**A**: <font color='red'>\n",
        "ניתן ללמוד שככל שמספר הדגימות עולה כך הדיוק של סט האימון הולך ויורד (כי יותר קשה לו למצוא מפריד לינארי מושלם כי ככל שיש יותר נקודות כך גובר הרעש בין הנקודות כמו שהסברנו לעיל בשאלה 6) אך מאידך סט המבחן מקבל דיוק יותר גבוה הואיל וככל שסט האימון מתאמן על יותר דוגמאות כך גבול ההחלטה שהוא ייצר יהיה יותר כללי ולכן ייצדק גם על יותר דוגמאות בסט המבחן  \n",
        "<font color='red'>\n",
        "כאשר אנחנו מתאמנים על סט דוגמאות קטן מה שקורא זה שיה לו מאד קל לדייק בסט האימון הואיל והוא קטן, אך זה כלל לא ילמד אותו ויאמן אותו כשורה לקראת סט המבחן (כי הוא לא יצליח לייצר כלל ברור של החלטות)\n",
        "במצב הזה הוא מאוד מושפע מסט האימון ולא מספיק כללי כדי לייצג בפועל את העולם למצב הזה נגיד שהמודל הוא מאד - biased ונוצר לנו מצב של underfitting\n",
        "(העברית והאנגלית מתהפכים פה)\n",
        "\n",
        "<font color='red'>\n",
        " ולכן כמו שרואים בגרף הנ\"ל כאשר אנחנו עם 2 דגימות דיוק סט המבחן הוא 0.5 בערך אך דיוק האימון הוא 1\n",
        "\n",
        "\n",
        "\n",
        "\n",
        "</font>\n"
      ]
    },
    {
      "cell_type": "markdown",
      "metadata": {
        "id": "gXhXAHB23nwZ"
      },
      "source": [
        "### **8. Regularization**"
      ]
    },
    {
      "cell_type": "markdown",
      "metadata": {
        "id": "AsZ5wpkQ40d9"
      },
      "source": [
        "We wish to improve the test accuracy when training with little data. As discussed in class, overfitting can be reduced by adding a regularization term to the loss:\n",
        "\n",
        "$$\\hat{E}(w) = \\sum_{i}{\\mathrm{loss}_\\mathbf{w}(h(x),y)} + \\frac{\\lambda}{2}||\\mathbf{w}||^2$$\n",
        "\n",
        "where $\\lambda$ is the regularization coefficient (hyper parameter) and $||\\mathbf{w}||^2$ is a L2 regularization.  \n",
        "Reminder: $||\\mathbf{w}||^2 = \\sum_{i=1}^{k}{w_i^2}$"
      ]
    },
    {
      "cell_type": "markdown",
      "metadata": {
        "id": "J5EjPMpp-R5y"
      },
      "source": [
        "**Q**: What will be the new update rule when the loss includes regularization?  \n",
        "Copy an image or write in [$latex$](https://colab.research.google.com/github/bebi103a/bebi103a.github.io/blob/master/lessons/00/intro_to_latex.ipynb)"
      ]
    },
    {
      "cell_type": "markdown",
      "metadata": {
        "id": "yq7L3GG5_z7a"
      },
      "source": [
        "**A**: <font color='red'>\n",
        "![image.png](data:image/png;base64,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)\n",
        "</font>\n"
      ]
    },
    {
      "cell_type": "markdown",
      "metadata": {
        "id": "JD14N2PdAXkk"
      },
      "source": [
        "Implement the Perceptron algorithm again but with regularization. All functions should be the same from the previous section except the ``train`` function.  \n",
        "**Important: Don't regularize the bias term ($\\mathbf{w}_0$).**"
      ]
    },
    {
      "cell_type": "code",
      "metadata": {
        "id": "ZSM_WlXMAhjK"
      },
      "source": [
        "class RegularizedPerceptron(object):\n",
        "    def __init__(self, n_features, lambda_value, iterations=10, learning_rate=0.01):\n",
        "        '''\n",
        "        The function initialized the Perceptron model.\n",
        "        n_features - number of inputs to the perceptron (excluding the bias)\n",
        "        iterations - number of iterations on the training data\n",
        "        learning_rate - learning rate, how much the weight will change during update\n",
        "        '''\n",
        "        self.iterations = iterations\n",
        "        self.learning_rate = learning_rate\n",
        "        np.random.seed(30) # set random seed, should not be altered!\n",
        "        self.weights = np.random.randn(n_features + 1)\n",
        "        self.lambda_value = lambda_value\n",
        "           \n",
        "    def predict(self, inputs):\n",
        "        '''\n",
        "        The function makes a prediction for the given inputs.\n",
        "        Output: -1 or 1.\n",
        "        '''\n",
        "        u = np.matmul(self.weights, inputs)\n",
        "        if u > 0:\n",
        "          return 1\n",
        "        return -1\n",
        "\n",
        "\n",
        "    def evaluate(self, inputs, labels):\n",
        "        '''\n",
        "        The function makes a predictions for the given inputs and compares \n",
        "        against the labels (ground truth). It returns the accuracy.\n",
        "        Accuracy = #correct_classification / #total\n",
        "        '''\n",
        "        true_classified = 0\n",
        "        for input, label in zip(inputs, labels):\n",
        "          prediction = self.predict(input)\n",
        "          if prediction * label > 0:\n",
        "            true_classified += 1\n",
        "        return true_classified / len(inputs)\n",
        "\n",
        "    def train(self, training_inputs, train_labels, test_inputs, test_labels, verbose=True):\n",
        "        '''\n",
        "        The function train a perceptron model given training_inputs and train_labels.\n",
        "        It also evaluates the model on the train set and test set after every iteration.\n",
        "        '''\n",
        "        \n",
        "        for i in range(self.iterations):\n",
        "            for x, y in zip(training_inputs, train_labels):\n",
        "                prediction = self.predict(x)\n",
        "                if prediction * y <= 0:\n",
        "                  self.weights += self.learning_rate * x * y \n",
        "                  temp = self.weights[0]\n",
        "                  self.weights -= self.weights * self.lambda_value * self.learning_rate\n",
        "                  self.weights[0] = temp\n",
        "                else:\n",
        "                  temp = self.weights[0]\n",
        "                  self.weights -= (self.weights * self.lambda_value * self.learning_rate)\n",
        "                  self.weights[0] = temp\n",
        "            if verbose:\n",
        "              print(f\"Iteration No.{i},\\\n",
        "               Train accuracy: {self.evaluate(training_inputs, train_labels)},\\\n",
        "                Test accuracy: {self.evaluate(test_inputs, test_labels)}\")"
      ],
      "execution_count": 41,
      "outputs": []
    },
    {
      "cell_type": "markdown",
      "metadata": {
        "id": "FhOUdczBBUxR"
      },
      "source": [
        "Let's compare ```RegularizedPerceptron``` against our regular ```Perceptron``` on a trainset with 5 samples."
      ]
    },
    {
      "cell_type": "code",
      "metadata": {
        "id": "86xG6CO6CFW-"
      },
      "source": [
        "# set lambda value\n",
        "lambda_value = 0.4"
      ],
      "execution_count": 42,
      "outputs": []
    },
    {
      "cell_type": "code",
      "metadata": {
        "id": "Fotbzy6KBhd2",
        "colab": {
          "base_uri": "https://localhost:8080/"
        },
        "outputId": "c5874fa1-a36e-402a-90ee-beea26233a02"
      },
      "source": [
        "train_size = 5\n",
        "\n",
        "# randomly select `train_size` samples\n",
        "idx = np.random.choice(len(X_train), size=train_size, replace=False)\n",
        "small_X_train, small_y_train = X_train[idx], y_train[idx]\n",
        "\n",
        "# create and train a perceptron model\n",
        "perceptron = Perceptron(n_features=2, iterations=100, learning_rate=0.01)\n",
        "perceptron.train(small_X_train, small_y_train, X_test, y_test, verbose=False)\n",
        "\n",
        "# evaluate the model on train and test\n",
        "print(f\"Perceptron: Train Acc: {perceptron.evaluate(small_X_train, small_y_train)},\\\n",
        " Test Acc: {perceptron.evaluate(X_test, y_test)}\")\n",
        "\n",
        "\n",
        "# create and train a regularized perceptron model\n",
        "reg_perceptron = RegularizedPerceptron(n_features=2, lambda_value = lambda_value,\n",
        "                                       iterations=100, learning_rate=0.01)\n",
        "reg_perceptron.train(small_X_train, small_y_train, X_test, y_test, verbose=False)\n",
        "\n",
        "# evaluate the model on train and test\n",
        "print(f\"RegularizedPerceptron: Train Acc: {reg_perceptron.evaluate(small_X_train, small_y_train)},\\\n",
        " Test Acc: {reg_perceptron.evaluate(X_test, y_test)}\")\n"
      ],
      "execution_count": 43,
      "outputs": [
        {
          "output_type": "stream",
          "name": "stdout",
          "text": [
            "Perceptron: Train Acc: 1.0, Test Acc: 0.8\n",
            "RegularizedPerceptron: Train Acc: 1.0, Test Acc: 0.81\n"
          ]
        }
      ]
    },
    {
      "cell_type": "markdown",
      "metadata": {
        "id": "rgFYCz3jCreC"
      },
      "source": [
        "We arbitrarily chose $\\lambda = 0.4$ and increased the test accuracy by 1%. We can probably do better.    \n",
        "Do a hyperparameter search (over 10 possible values) to find a lambda value that gives the best test accuracy.  \n",
        "(Note: Usually, hyperparameter search is done on a validation set, since the data is small we do it here on the test set)."
      ]
    },
    {
      "cell_type": "code",
      "metadata": {
        "id": "_T7VdzTBDWXO",
        "colab": {
          "base_uri": "https://localhost:8080/"
        },
        "outputId": "be40cdf3-57ae-434a-d735-54a86abe3ca5"
      },
      "source": [
        "# find best lambda value\n",
        "# For lambda_value in [...]: train and evaluate RegularizedPerceptron.\n",
        "# Find model with highest accuracy\n",
        "# I searched the best lambda value in range :0.1-1.5 (include)\n",
        "max = 0\n",
        "best_lambda = ''\n",
        "for lambda_value in range(1, 16):\n",
        "  reg_perceptron = RegularizedPerceptron(n_features=2, lambda_value = lambda_value / 10,\n",
        "                                       iterations=100, learning_rate=0.01)\n",
        "  reg_perceptron.train(small_X_train, small_y_train, X_test, y_test, verbose=False)\n",
        "  test_acc = reg_perceptron.evaluate(X_test, y_test)\n",
        "  if test_acc > max:\n",
        "    max = test_acc\n",
        "    train_acc = reg_perceptron.evaluate(small_X_train, small_y_train)\n",
        "    best_lambda = lambda_value / 10\n",
        "print(f\"The max test acc: {max}, The max train acc: {train_acc}, Best lambda: {best_lambda}\")\n",
        "\n"
      ],
      "execution_count": 44,
      "outputs": [
        {
          "output_type": "stream",
          "name": "stdout",
          "text": [
            "The max test acc: 0.85, The max train acc: 1.0, Best lambda: 1.5\n"
          ]
        }
      ]
    },
    {
      "cell_type": "markdown",
      "metadata": {
        "id": "GiFqqe_uyAz-"
      },
      "source": [
        "**Q**:What is the best $\\lambda$ you found? What is the train and test accuracy for that model?"
      ]
    },
    {
      "cell_type": "markdown",
      "metadata": {
        "id": "9gHd2LYEyPnS"
      },
      "source": [
        "**A**: <font color='red'>\n",
        "כפי שניתן לראות בפלט הקוד קיבלנו את הלמדא עם דיוק הכי גבוה בסט המבחן של 0.85 (ודיוק של סט אימון של 1.0) דווקא בלמדא האחרון שבדקנו (1.5) \n",
        "</font>\n"
      ]
    }
  ]
}
